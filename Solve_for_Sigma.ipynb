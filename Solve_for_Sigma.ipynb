{
 "cells": [
  {
   "cell_type": "code",
   "execution_count": 6,
   "id": "0d2072c6-ffe2-4deb-a403-63c34e289333",
   "metadata": {
    "execution": {
     "iopub.execute_input": "2024-06-13T16:28:53.025209Z",
     "iopub.status.busy": "2024-06-13T16:28:53.024322Z",
     "iopub.status.idle": "2024-06-13T16:28:53.078397Z",
     "shell.execute_reply": "2024-06-13T16:28:53.075826Z",
     "shell.execute_reply.started": "2024-06-13T16:28:53.025145Z"
    },
    "tags": []
   },
   "outputs": [
    {
     "data": {
      "text/plain": [
       "array([ 0.00000000e+00+7.11775828e-01j, -5.28849156e-02-0.00000000e+00j,\n",
       "        0.00000000e+00-2.10489812e-03j,  5.13335149e-05+0.00000000e+00j,\n",
       "        0.00000000e+00+8.42495852e-07j])"
      ]
     },
     "execution_count": 6,
     "metadata": {},
     "output_type": "execute_result"
    }
   ],
   "source": [
    "import numpy as np\n",
    "import math\n",
    "from scipy.linalg import solve_banded\n",
    "def get_sigmas(n,c): # m=1, n=number sigma parameters to be solved for, c=iD_theta/kv\n",
    "    \n",
    "    # Create a zero matrix and fill it with the diagonal part of the tridiagonal matrix\n",
    "    ab = np.zeros((3,n), dtype = np.complex128)\n",
    "    for l in range (1, n+1):\n",
    "        ab[1,l-1] = l*(l+1)*c # sigma_{l,m} coefficient\n",
    "        \n",
    "    for l in range (1, n):\n",
    "        ab[0,l] = math.sqrt(((l+2)*(l))/(((2*l)+3)*((2*l)+1))) # sigma_{l+1,m} coefficient\n",
    "        \n",
    "    for l in range (2, n+1):\n",
    "        ab[2,l-2] = math.sqrt(((l+1)*(l-1))/(((2*l)-1)*((2*l)+1))) # sigma_{l-1,m} coefficient\n",
    "    \n",
    "    # Create a zero matrix for the b vector of ab*x=b and fill it with the coefficients of each Y_l,m from the RHS of our equation.\n",
    "    b = np.zeros((n,), dtype=np.complex128)\n",
    "    b[0] = (-2*math.sqrt(math.pi))/math.sqrt(6)\n",
    "    x = solve_banded((1, 1), ab, b) # Solve for the x vector\n",
    "    return x\n",
    "get_sigmas(5, 1j)"
   ]
  },
  {
   "cell_type": "code",
   "execution_count": 5,
   "id": "bb4305ba-a2a6-4638-ae18-e4462d823c9b",
   "metadata": {
    "execution": {
     "iopub.execute_input": "2024-06-11T15:39:49.121195Z",
     "iopub.status.busy": "2024-06-11T15:39:49.119284Z",
     "iopub.status.idle": "2024-06-11T15:39:49.145694Z",
     "shell.execute_reply": "2024-06-11T15:39:49.143926Z",
     "shell.execute_reply.started": "2024-06-11T15:39:49.121069Z"
    }
   },
   "outputs": [
    {
     "data": {
      "text/plain": [
       "array([ 0.00000000e+00-7.11775828e-01j,  5.28849156e-02+0.00000000e+00j,\n",
       "        0.00000000e+00+2.10489812e-03j, -5.13335189e-05-0.00000000e+00j,\n",
       "        0.00000000e+00-8.42332312e-07j,  9.92098348e-09+0.00000000e+00j,\n",
       "        0.00000000e+00+8.78907971e-11j, -6.06728635e-13-0.00000000e+00j,\n",
       "        0.00000000e+00-3.35494057e-15j,  1.51920319e-17+0.00000000e+00j,\n",
       "        0.00000000e+00+5.73658913e-20j, -1.83383154e-22-0.00000000e+00j,\n",
       "        0.00000000e+00-5.02675795e-25j,  1.19454621e-27+0.00000000e+00j,\n",
       "        0.00000000e+00+2.48447265e-30j, -4.56033018e-33-0.00000000e+00j,\n",
       "        0.00000000e+00-7.44181858e-36j,  1.08672214e-38+0.00000000e+00j,\n",
       "        0.00000000e+00+1.42840817e-41j, -1.69888996e-44-0.00000000e+00j])"
      ]
     },
     "execution_count": 5,
     "metadata": {},
     "output_type": "execute_result"
    }
   ],
   "source": [
    "def get_sigmas_negative(n,c): # m=-1, n=number sigma parameters to be solved for, c=iD_theta/kv\n",
    "        \n",
    "    # Create a zero matrix and fill it with the diagonal part of the tridiagonal matrix\n",
    "    ab = np.zeros((3,n), dtype = np.complex128)\n",
    "    for l in range (1, n+1):\n",
    "        ab[1,l-1] = l*(l+1)*c # sigma_{l,m} coefficient\n",
    "        \n",
    "    for l in range (1, n):\n",
    "        ab[0,l] = math.sqrt(((l+2)*(l))/(((2*l)+3)*((2*l)+1))) # sigma_{l+1,m} coefficient\n",
    "        \n",
    "    for l in range (2, n+1):\n",
    "        ab[2,l-2] = math.sqrt(((l+1)*(l-1))/(((2*l)-1)*((2*l)+1))) # sigma_{l-1,m} coefficient\n",
    "    \n",
    "    # Create a zero matrix for the b vector of ab*x=b and fill it with the coefficients of each Y_l,m from the RHS of our equation.\n",
    "    b = np.zeros((n,), dtype=np.complex128)\n",
    "    b[0] = (2*math.sqrt(math.pi))/math.sqrt(6)\n",
    "    x = solve_banded((1, 1), ab, b) # Solve for the x vector\n",
    "    return x\n",
    "get_sigmas_negative(20, 1j)"
   ]
  }
 ],
 "metadata": {
  "kernelspec": {
   "display_name": "Python 3.9 (py39)",
   "language": "python",
   "name": "py39"
  },
  "language_info": {
   "codemirror_mode": {
    "name": "ipython",
    "version": 3
   },
   "file_extension": ".py",
   "mimetype": "text/x-python",
   "name": "python",
   "nbconvert_exporter": "python",
   "pygments_lexer": "ipython3",
   "version": "3.9.7"
  }
 },
 "nbformat": 4,
 "nbformat_minor": 5
}
